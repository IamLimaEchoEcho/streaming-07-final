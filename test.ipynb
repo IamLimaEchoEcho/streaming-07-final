{
 "cells": [
  {
   "cell_type": "code",
   "execution_count": 1,
   "metadata": {},
   "outputs": [],
   "source": [
    "#!/usr/bin/env python\n",
    "import pika\n",
    "import csv\n",
    "import sys\n",
    "\n",
    "connection = pika.BlockingConnection(pika.ConnectionParameters('localhost'))\n",
    "channel = connection.channel()\n"
   ]
  },
  {
   "cell_type": "code",
   "execution_count": 8,
   "metadata": {},
   "outputs": [
    {
     "name": "stdout",
     "output_type": "stream",
     "text": [
      "First task....\n",
      "Second task....\n",
      "Third task....\n",
      "Forth task...\n",
      "Fifth task...\n",
      "Sixth task...\n"
     ]
    }
   ],
   "source": [
    "with open ('tasks.csv', mode ='r') as file:\n",
    "    csvFile = csv.reader(file)\n",
    "\n",
    "    for lines in csvFile:\n",
    "        #message = \" \".join(sys.argv[1:]) or lines\n",
    "        message = ''.join(str(x) for x in lines)\n",
    "        print((message))\n",
    "        "
   ]
  },
  {
   "cell_type": "code",
   "execution_count": 2,
   "metadata": {},
   "outputs": [
    {
     "name": "stdout",
     "output_type": "stream",
     "text": [
      "pika is not installed\n"
     ]
    }
   ],
   "source": [
    "import importlib.util\n",
    "\n",
    "# For illustrative purposes.\n",
    "package_name = 'pika'\n",
    "\n",
    "spec = importlib.util.find_spec(package_name)\n",
    "if spec is None:\n",
    "    print(package_name +\" is not installed\")\n"
   ]
  },
  {
   "cell_type": "code",
   "execution_count": null,
   "metadata": {},
   "outputs": [],
   "source": [
    "\"\"\"Read individual csv row\n",
    "load tuple with row contents\n",
    "Send a tuple of (timestamp, smoker temp) to the first queue\n",
    "send message\n",
    "wait 3 seconds\n",
    "repeat\"\"\"\n"
   ]
  },
  {
   "cell_type": "code",
   "execution_count": null,
   "metadata": {},
   "outputs": [],
   "source": [
    "import pika\n",
    "import sys\n",
    "import webbrowser\n",
    "import csv\n",
    "import time\n",
    "from datetime import datetime\n",
    "\n",
    "\n",
    "#input file\n",
    "myfile = 'smoker-temps.csv'\n",
    "\n",
    "\n",
    "#set queue names\n",
    "queue1 = \"01-smoker\"\n",
    "queue2 = \"02-food-A\"\n",
    "queue3 = \"03-food-B\"\n",
    "\n",
    "\n",
    "\n",
    "#declare tuples\n",
    "smoker_time_temp = ()\n",
    "foodA_time_temp = ()\n",
    "foodB_time_temp = ()\n",
    "\n",
    "lst_smoker_time_temp = []\n",
    "\n",
    "with open(myfile, 'r') as csvfile:\n",
    "    reader = csv.DictReader(csvfile)\n",
    "    for row in reader:\n",
    "        #hold the date/time\n",
    "        smoker_time = row['Time (UTC)']\n",
    "        #load tuples for smoker and food temps with timestamp\n",
    "        smoker_time_temp = row['Time (UTC)'], row['Channel1']\n",
    "        foodA_time_temp = row['Time (UTC)'], row['Channel2']\n",
    "        foodB_time_temp = row['Time (UTC)'], row['Channel3']\n",
    "        \n",
    "        ##I'm not sure how to send a tuple, so creating strings to send\n",
    "        #prepare strings\n",
    "        smoker_temp = row['Channel1']\n",
    "        foodA_temp = row['Channel2']\n",
    "        foodB_temp = row['Channel3']\n",
    "        #prepare binary message to stream\n",
    "        smoker_message = f\"{smoker_time}, {smoker_temp}\"\n",
    "        smoker_message_bin = smoker_message.encode()\n",
    "        foodA_message = f\"{smoker_time}, {foodA_temp}\"\n",
    "        foodA_message_bin = foodA_message.encode()\n",
    "        foodB_message = f\"{smoker_time}, {foodB_temp}\"\n",
    "        foodB_message_bin = foodB_message.encode()\n",
    "\n",
    "        smoker_current_str = smoker_message_bin.decode()\n",
    "        smoker_current_list = smoker_current_str.split(\", \")\n",
    "        if smoker_current_list[0] != '' and smoker_current_list[1] != '':\n",
    "            lst_smoker_time_temp.append(smoker_current_list)\n",
    "\n",
    "\n",
    "            #date/time format is mm/dd/yy hh:mm:ss\n",
    "            smoker_current_time = datetime.strptime(smoker_current_list[0], '%m/%d/%y %H:%M:%S')\n",
    "            smoker_current_temp = float(smoker_current_list[1])\n",
    "\n",
    "            #read backwards through list and test each time/temp\n",
    "            i = len(lst_smoker_time_temp) - 1\n",
    "            while i >= 0: \n",
    "                smoker_test_str = str(lst_smoker_time_temp[i])\n",
    "                smoker_test_list = smoker_test_str.split(\", \")\n",
    "                print(smoker_test_list[0])\n",
    "                i-= 1\n",
    "                \"\"\"smoker_test_time = datetime.strptime(smoker_test_list[0], '%m/%d/%y %H:%M:%S')\n",
    "                smoker_test_temp = float(smoker_test_list[1])\n",
    "                if smoker_test_temp - smoker_current_temp >= 15:\n",
    "                        date_time_diff = smoker_current_time - smoker_test_time \n",
    "                        date_time_diff_m = date_time_diff.total_seconds() / 60\n",
    "                        if date_time_diff_m <= 2.5:\n",
    "                            print(f\" !!! Smoker alert! Temp decrease by 15+ dgrees in 2.5 minutes. {smoker_test_temp} to {smoker_current_temp}\")\"\"\"\n",
    "                "
   ]
  }
 ],
 "metadata": {
  "kernelspec": {
   "display_name": "Python 3",
   "language": "python",
   "name": "python3"
  },
  "language_info": {
   "codemirror_mode": {
    "name": "ipython",
    "version": 3
   },
   "file_extension": ".py",
   "mimetype": "text/x-python",
   "name": "python",
   "nbconvert_exporter": "python",
   "pygments_lexer": "ipython3",
   "version": "3.10.9"
  },
  "orig_nbformat": 4,
  "vscode": {
   "interpreter": {
    "hash": "98afb33d2bdf54e870e503cc7fe9e5025ed94aafb549bc0bc2b30638a52db936"
   }
  }
 },
 "nbformat": 4,
 "nbformat_minor": 2
}
